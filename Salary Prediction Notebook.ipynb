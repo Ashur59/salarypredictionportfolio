{
 "cells": [
  {
   "cell_type": "markdown",
   "metadata": {},
   "source": [
    "# Salary Predictions Based on Job Descriptions"
   ]
  },
  {
   "cell_type": "markdown",
   "metadata": {},
   "source": [
    "# Part 1 - DEFINE"
   ]
  },
  {
   "cell_type": "markdown",
   "metadata": {},
   "source": [
    "### ---- 1 Define the problem ----"
   ]
  },
  {
   "cell_type": "markdown",
   "metadata": {},
   "source": [
    "Given the known salary for a big set of Job ID listings along with some known (relevant) features, i.e. Company ID, Job Type, Degree, Major, Industry, Years Experience, and Distance from Metropolitan, we would would like to develop a machine learned statistical model to predict the salary for another dataset of Job ID postings with the same features as the ones for jobs having known salaries. In other words, we train our model based on the Job ID dataset with known salaries and, then, test it on the Job ID dataset with unknown salaries. This is a supervised machine learning problem for lots of applications like glassdoor in order to predict salary for any given Job ID, e.g. position."
   ]
  },
  {
   "cell_type": "code",
   "execution_count": 1,
   "metadata": {},
   "outputs": [],
   "source": [
    "# Import the neccessary modules for data manipulation, visual representation, and machine learning algorithms\n",
    "import numpy as np\n",
    "\n",
    "import scipy as sp\n",
    "from scipy.sparse import csr_matrix, hstack\n",
    "\n",
    "import pandas as pd\n",
    "from pandas.plotting import scatter_matrix\n",
    "\n",
    "import matplotlib as mpl\n",
    "import matplotlib.pyplot as plt\n",
    "import matplotlib.colors as colors\n",
    "import matplotlib.cm as cm\n",
    "\n",
    "from sklearn import model_selection\n",
    "from sklearn.compose import make_column_selector, ColumnTransformer\n",
    "from sklearn.feature_extraction.text import CountVectorizer, TfidfVectorizer\n",
    "from sklearn.preprocessing import PolynomialFeatures, LabelBinarizer, Binarizer, StandardScaler, OneHotEncoder, LabelEncoder, OrdinalEncoder, RobustScaler, MinMaxScaler\n",
    "from sklearn.metrics import r2_score, classification_report, confusion_matrix, accuracy_score, mean_squared_error, mean_absolute_error, roc_auc_score\n",
    "from sklearn.model_selection import KFold, cross_val_score, train_test_split, GridSearchCV\n",
    "from sklearn.linear_model import LogisticRegression, BayesianRidge, Ridge\n",
    "from sklearn.tree import DecisionTreeClassifier, DecisionTreeRegressor\n",
    "from sklearn.pipeline import make_pipeline\n",
    "from sklearn.ensemble import RandomForestClassifier, GradientBoostingClassifier, RandomForestRegressor\n",
    "from sklearn.neighbors import KNeighborsClassifier\n",
    "from sklearn.discriminant_analysis import LinearDiscriminantAnalysis\n",
    "from sklearn.naive_bayes import GaussianNB\n",
    "from sklearn.svm import SVC\n",
    "from sklearn.cluster import DBSCAN, AgglomerativeClustering, KMeans\n",
    "\n",
    "from xgboost import XGBClassifier\n",
    "\n",
    "import seaborn as sns\n",
    "import random\n",
    "import math\n",
    "import time\n",
    "import datetime\n",
    "import operator \n",
    "plt.style.use('fivethirtyeight')\n",
    "%matplotlib inline\n",
    "import warnings\n",
    "warnings.filterwarnings(\"ignore\")\n",
    "\n",
    "from IPython.core.interactiveshell import InteractiveShell\n",
    "InteractiveShell.ast_node_interactivity = \"all\"\n",
    "\n",
    "#your info here\n",
    "__author__ = \"Ashoordin Ashoormaram\"\n",
    "__email__ = \"a.ashoormaram@gmail.com\""
   ]
  },
  {
   "cell_type": "markdown",
   "metadata": {},
   "source": [
    "## Part 2 - DISCOVER"
   ]
  },
  {
   "cell_type": "markdown",
   "metadata": {},
   "source": [
    "### ---- 2 Load the data ----\n",
    "Import the data (make sure you update this on a daily basis if applicable for the corresponding business problem)"
   ]
  },
  {
   "cell_type": "code",
   "execution_count": 2,
   "metadata": {},
   "outputs": [],
   "source": [
    "#load the data into a Pandas dataframe\n",
    "#training data\n",
    "train_features = pd.read_csv('data/train_features.csv')\n",
    "train_salaries = pd.read_csv('data/train_salaries.csv')\n",
    "\n",
    "#testing data\n",
    "test = pd.read_csv('data/test_features.csv')"
   ]
  },
  {
   "cell_type": "code",
   "execution_count": 3,
   "metadata": {},
   "outputs": [
    {
     "data": {
      "text/html": [
       "<div>\n",
       "<style scoped>\n",
       "    .dataframe tbody tr th:only-of-type {\n",
       "        vertical-align: middle;\n",
       "    }\n",
       "\n",
       "    .dataframe tbody tr th {\n",
       "        vertical-align: top;\n",
       "    }\n",
       "\n",
       "    .dataframe thead th {\n",
       "        text-align: right;\n",
       "    }\n",
       "</style>\n",
       "<table border=\"1\" class=\"dataframe\">\n",
       "  <thead>\n",
       "    <tr style=\"text-align: right;\">\n",
       "      <th></th>\n",
       "      <th>jobId</th>\n",
       "      <th>companyId</th>\n",
       "      <th>jobType</th>\n",
       "      <th>degree</th>\n",
       "      <th>major</th>\n",
       "      <th>industry</th>\n",
       "      <th>yearsExperience</th>\n",
       "      <th>milesFromMetropolis</th>\n",
       "    </tr>\n",
       "  </thead>\n",
       "  <tbody>\n",
       "    <tr>\n",
       "      <th>0</th>\n",
       "      <td>JOB1362684407687</td>\n",
       "      <td>COMP37</td>\n",
       "      <td>CFO</td>\n",
       "      <td>MASTERS</td>\n",
       "      <td>MATH</td>\n",
       "      <td>HEALTH</td>\n",
       "      <td>10</td>\n",
       "      <td>83</td>\n",
       "    </tr>\n",
       "    <tr>\n",
       "      <th>1</th>\n",
       "      <td>JOB1362684407688</td>\n",
       "      <td>COMP19</td>\n",
       "      <td>CEO</td>\n",
       "      <td>HIGH_SCHOOL</td>\n",
       "      <td>NONE</td>\n",
       "      <td>WEB</td>\n",
       "      <td>3</td>\n",
       "      <td>73</td>\n",
       "    </tr>\n",
       "    <tr>\n",
       "      <th>2</th>\n",
       "      <td>JOB1362684407689</td>\n",
       "      <td>COMP52</td>\n",
       "      <td>VICE_PRESIDENT</td>\n",
       "      <td>DOCTORAL</td>\n",
       "      <td>PHYSICS</td>\n",
       "      <td>HEALTH</td>\n",
       "      <td>10</td>\n",
       "      <td>38</td>\n",
       "    </tr>\n",
       "    <tr>\n",
       "      <th>3</th>\n",
       "      <td>JOB1362684407690</td>\n",
       "      <td>COMP38</td>\n",
       "      <td>MANAGER</td>\n",
       "      <td>DOCTORAL</td>\n",
       "      <td>CHEMISTRY</td>\n",
       "      <td>AUTO</td>\n",
       "      <td>8</td>\n",
       "      <td>17</td>\n",
       "    </tr>\n",
       "    <tr>\n",
       "      <th>4</th>\n",
       "      <td>JOB1362684407691</td>\n",
       "      <td>COMP7</td>\n",
       "      <td>VICE_PRESIDENT</td>\n",
       "      <td>BACHELORS</td>\n",
       "      <td>PHYSICS</td>\n",
       "      <td>FINANCE</td>\n",
       "      <td>8</td>\n",
       "      <td>16</td>\n",
       "    </tr>\n",
       "  </tbody>\n",
       "</table>\n",
       "</div>"
      ],
      "text/plain": [
       "              jobId companyId         jobType       degree      major  \\\n",
       "0  JOB1362684407687    COMP37             CFO      MASTERS       MATH   \n",
       "1  JOB1362684407688    COMP19             CEO  HIGH_SCHOOL       NONE   \n",
       "2  JOB1362684407689    COMP52  VICE_PRESIDENT     DOCTORAL    PHYSICS   \n",
       "3  JOB1362684407690    COMP38         MANAGER     DOCTORAL  CHEMISTRY   \n",
       "4  JOB1362684407691     COMP7  VICE_PRESIDENT    BACHELORS    PHYSICS   \n",
       "\n",
       "  industry  yearsExperience  milesFromMetropolis  \n",
       "0   HEALTH               10                   83  \n",
       "1      WEB                3                   73  \n",
       "2   HEALTH               10                   38  \n",
       "3     AUTO                8                   17  \n",
       "4  FINANCE                8                   16  "
      ]
     },
     "execution_count": 3,
     "metadata": {},
     "output_type": "execute_result"
    }
   ],
   "source": [
    "train_features.head()"
   ]
  },
  {
   "cell_type": "code",
   "execution_count": 4,
   "metadata": {},
   "outputs": [
    {
     "data": {
      "text/html": [
       "<div>\n",
       "<style scoped>\n",
       "    .dataframe tbody tr th:only-of-type {\n",
       "        vertical-align: middle;\n",
       "    }\n",
       "\n",
       "    .dataframe tbody tr th {\n",
       "        vertical-align: top;\n",
       "    }\n",
       "\n",
       "    .dataframe thead th {\n",
       "        text-align: right;\n",
       "    }\n",
       "</style>\n",
       "<table border=\"1\" class=\"dataframe\">\n",
       "  <thead>\n",
       "    <tr style=\"text-align: right;\">\n",
       "      <th></th>\n",
       "      <th>jobId</th>\n",
       "      <th>salary</th>\n",
       "    </tr>\n",
       "  </thead>\n",
       "  <tbody>\n",
       "    <tr>\n",
       "      <th>0</th>\n",
       "      <td>JOB1362684407687</td>\n",
       "      <td>130</td>\n",
       "    </tr>\n",
       "    <tr>\n",
       "      <th>1</th>\n",
       "      <td>JOB1362684407688</td>\n",
       "      <td>101</td>\n",
       "    </tr>\n",
       "    <tr>\n",
       "      <th>2</th>\n",
       "      <td>JOB1362684407689</td>\n",
       "      <td>137</td>\n",
       "    </tr>\n",
       "    <tr>\n",
       "      <th>3</th>\n",
       "      <td>JOB1362684407690</td>\n",
       "      <td>142</td>\n",
       "    </tr>\n",
       "    <tr>\n",
       "      <th>4</th>\n",
       "      <td>JOB1362684407691</td>\n",
       "      <td>163</td>\n",
       "    </tr>\n",
       "  </tbody>\n",
       "</table>\n",
       "</div>"
      ],
      "text/plain": [
       "              jobId  salary\n",
       "0  JOB1362684407687     130\n",
       "1  JOB1362684407688     101\n",
       "2  JOB1362684407689     137\n",
       "3  JOB1362684407690     142\n",
       "4  JOB1362684407691     163"
      ]
     },
     "execution_count": 4,
     "metadata": {},
     "output_type": "execute_result"
    }
   ],
   "source": [
    "train_salaries.head()"
   ]
  },
  {
   "cell_type": "code",
   "execution_count": 5,
   "metadata": {},
   "outputs": [
    {
     "data": {
      "text/html": [
       "<div>\n",
       "<style scoped>\n",
       "    .dataframe tbody tr th:only-of-type {\n",
       "        vertical-align: middle;\n",
       "    }\n",
       "\n",
       "    .dataframe tbody tr th {\n",
       "        vertical-align: top;\n",
       "    }\n",
       "\n",
       "    .dataframe thead th {\n",
       "        text-align: right;\n",
       "    }\n",
       "</style>\n",
       "<table border=\"1\" class=\"dataframe\">\n",
       "  <thead>\n",
       "    <tr style=\"text-align: right;\">\n",
       "      <th></th>\n",
       "      <th>jobId</th>\n",
       "      <th>companyId</th>\n",
       "      <th>jobType</th>\n",
       "      <th>degree</th>\n",
       "      <th>major</th>\n",
       "      <th>industry</th>\n",
       "      <th>yearsExperience</th>\n",
       "      <th>milesFromMetropolis</th>\n",
       "      <th>salary</th>\n",
       "    </tr>\n",
       "  </thead>\n",
       "  <tbody>\n",
       "    <tr>\n",
       "      <th>0</th>\n",
       "      <td>JOB1362684407687</td>\n",
       "      <td>COMP37</td>\n",
       "      <td>CFO</td>\n",
       "      <td>MASTERS</td>\n",
       "      <td>MATH</td>\n",
       "      <td>HEALTH</td>\n",
       "      <td>10</td>\n",
       "      <td>83</td>\n",
       "      <td>130</td>\n",
       "    </tr>\n",
       "    <tr>\n",
       "      <th>1</th>\n",
       "      <td>JOB1362684407688</td>\n",
       "      <td>COMP19</td>\n",
       "      <td>CEO</td>\n",
       "      <td>HIGH_SCHOOL</td>\n",
       "      <td>NONE</td>\n",
       "      <td>WEB</td>\n",
       "      <td>3</td>\n",
       "      <td>73</td>\n",
       "      <td>101</td>\n",
       "    </tr>\n",
       "    <tr>\n",
       "      <th>2</th>\n",
       "      <td>JOB1362684407689</td>\n",
       "      <td>COMP52</td>\n",
       "      <td>VICE_PRESIDENT</td>\n",
       "      <td>DOCTORAL</td>\n",
       "      <td>PHYSICS</td>\n",
       "      <td>HEALTH</td>\n",
       "      <td>10</td>\n",
       "      <td>38</td>\n",
       "      <td>137</td>\n",
       "    </tr>\n",
       "    <tr>\n",
       "      <th>3</th>\n",
       "      <td>JOB1362684407690</td>\n",
       "      <td>COMP38</td>\n",
       "      <td>MANAGER</td>\n",
       "      <td>DOCTORAL</td>\n",
       "      <td>CHEMISTRY</td>\n",
       "      <td>AUTO</td>\n",
       "      <td>8</td>\n",
       "      <td>17</td>\n",
       "      <td>142</td>\n",
       "    </tr>\n",
       "    <tr>\n",
       "      <th>4</th>\n",
       "      <td>JOB1362684407691</td>\n",
       "      <td>COMP7</td>\n",
       "      <td>VICE_PRESIDENT</td>\n",
       "      <td>BACHELORS</td>\n",
       "      <td>PHYSICS</td>\n",
       "      <td>FINANCE</td>\n",
       "      <td>8</td>\n",
       "      <td>16</td>\n",
       "      <td>163</td>\n",
       "    </tr>\n",
       "  </tbody>\n",
       "</table>\n",
       "</div>"
      ],
      "text/plain": [
       "              jobId companyId         jobType       degree      major  \\\n",
       "0  JOB1362684407687    COMP37             CFO      MASTERS       MATH   \n",
       "1  JOB1362684407688    COMP19             CEO  HIGH_SCHOOL       NONE   \n",
       "2  JOB1362684407689    COMP52  VICE_PRESIDENT     DOCTORAL    PHYSICS   \n",
       "3  JOB1362684407690    COMP38         MANAGER     DOCTORAL  CHEMISTRY   \n",
       "4  JOB1362684407691     COMP7  VICE_PRESIDENT    BACHELORS    PHYSICS   \n",
       "\n",
       "  industry  yearsExperience  milesFromMetropolis  salary  \n",
       "0   HEALTH               10                   83     130  \n",
       "1      WEB                3                   73     101  \n",
       "2   HEALTH               10                   38     137  \n",
       "3     AUTO                8                   17     142  \n",
       "4  FINANCE                8                   16     163  "
      ]
     },
     "execution_count": 5,
     "metadata": {},
     "output_type": "execute_result"
    }
   ],
   "source": [
    "train = pd.merge(train_features, train_salaries, on='jobId')\n",
    "# Examine the dataset\n",
    "train.head()"
   ]
  },
  {
   "cell_type": "code",
   "execution_count": 6,
   "metadata": {},
   "outputs": [
    {
     "name": "stdout",
     "output_type": "stream",
     "text": [
      "<class 'pandas.core.frame.DataFrame'>\n",
      "Int64Index: 1000000 entries, 0 to 999999\n",
      "Data columns (total 9 columns):\n",
      " #   Column               Non-Null Count    Dtype \n",
      "---  ------               --------------    ----- \n",
      " 0   jobId                1000000 non-null  object\n",
      " 1   companyId            1000000 non-null  object\n",
      " 2   jobType              1000000 non-null  object\n",
      " 3   degree               1000000 non-null  object\n",
      " 4   major                1000000 non-null  object\n",
      " 5   industry             1000000 non-null  object\n",
      " 6   yearsExperience      1000000 non-null  int64 \n",
      " 7   milesFromMetropolis  1000000 non-null  int64 \n",
      " 8   salary               1000000 non-null  int64 \n",
      "dtypes: int64(3), object(6)\n",
      "memory usage: 76.3+ MB\n"
     ]
    }
   ],
   "source": [
    "train.info()"
   ]
  },
  {
   "cell_type": "markdown",
   "metadata": {},
   "source": [
    "### ---- 3 Clean the data ----"
   ]
  },
  {
   "cell_type": "code",
   "execution_count": 7,
   "metadata": {},
   "outputs": [
    {
     "name": "stdout",
     "output_type": "stream",
     "text": [
      "<class 'pandas.core.frame.DataFrame'>\n",
      "Int64Index: 1000000 entries, 0 to 999999\n",
      "Data columns (total 9 columns):\n",
      " #   Column               Non-Null Count    Dtype \n",
      "---  ------               --------------    ----- \n",
      " 0   jobId                1000000 non-null  object\n",
      " 1   companyId            1000000 non-null  object\n",
      " 2   jobType              1000000 non-null  object\n",
      " 3   degree               1000000 non-null  object\n",
      " 4   major                1000000 non-null  object\n",
      " 5   industry             1000000 non-null  object\n",
      " 6   yearsExperience      1000000 non-null  int64 \n",
      " 7   milesFromMetropolis  1000000 non-null  int64 \n",
      " 8   salary               1000000 non-null  int64 \n",
      "dtypes: int64(3), object(6)\n",
      "memory usage: 76.3+ MB\n"
     ]
    }
   ],
   "source": [
    "# Check to see if there is any missing data in the dataset\n",
    "train.dropna().info()"
   ]
  },
  {
   "cell_type": "code",
   "execution_count": 8,
   "metadata": {},
   "outputs": [
    {
     "data": {
      "text/plain": [
       "jobId                  object\n",
       "companyId              object\n",
       "jobType                object\n",
       "degree                 object\n",
       "major                  object\n",
       "industry               object\n",
       "yearsExperience         int64\n",
       "milesFromMetropolis     int64\n",
       "salary                  int64\n",
       "dtype: object"
      ]
     },
     "execution_count": 8,
     "metadata": {},
     "output_type": "execute_result"
    }
   ],
   "source": [
    "# Check the type of our features. Are there any data inconsistencies?\n",
    "train.dtypes"
   ]
  },
  {
   "cell_type": "code",
   "execution_count": 9,
   "metadata": {},
   "outputs": [
    {
     "data": {
      "text/plain": [
       "jobId                  False\n",
       "companyId              False\n",
       "jobType                False\n",
       "degree                 False\n",
       "major                  False\n",
       "industry               False\n",
       "yearsExperience        False\n",
       "milesFromMetropolis    False\n",
       "salary                 False\n",
       "dtype: bool"
      ]
     },
     "execution_count": 9,
     "metadata": {},
     "output_type": "execute_result"
    }
   ],
   "source": [
    "# look for duplicate data, invalid data (e.g. salaries <=0), or corrupt data and remove it\n",
    "\n",
    "#Check to see if there are any missing values in our dataset\n",
    "train.isnull().any()"
   ]
  },
  {
   "cell_type": "code",
   "execution_count": 10,
   "metadata": {},
   "outputs": [
    {
     "data": {
      "text/plain": [
       "False"
      ]
     },
     "execution_count": 10,
     "metadata": {},
     "output_type": "execute_result"
    }
   ],
   "source": [
    "#Check for duplicate data\n",
    "train.duplicated().any()"
   ]
  },
  {
   "cell_type": "code",
   "execution_count": 11,
   "metadata": {},
   "outputs": [
    {
     "name": "stdout",
     "output_type": "stream",
     "text": [
      "invalid_salary: 5\n",
      "invalid_milesFromMetropolis: 0\n",
      "invalid_yearsExperience: 0\n"
     ]
    }
   ],
   "source": [
    "#Check for invalid data (salaries <=0)\n",
    "invalid_salary = sum(n <= 0 for n in train.salary)\n",
    "print(\"invalid_salary:\", invalid_salary)\n",
    "\n",
    "#Check for invalid data (milesFromMetropolis <0)\n",
    "invalid_milesFromMetropolis = sum(n < 0 for n in train.milesFromMetropolis)\n",
    "print(\"invalid_milesFromMetropolis:\", invalid_milesFromMetropolis)\n",
    "\n",
    "#Check for invalid data (yearsExperience <0)\n",
    "invalid_yearsExperience = sum(n < 0 for n in train.yearsExperience)\n",
    "print(\"invalid_yearsExperience:\", invalid_yearsExperience)"
   ]
  },
  {
   "cell_type": "code",
   "execution_count": 12,
   "metadata": {},
   "outputs": [
    {
     "data": {
      "text/html": [
       "<div>\n",
       "<style scoped>\n",
       "    .dataframe tbody tr th:only-of-type {\n",
       "        vertical-align: middle;\n",
       "    }\n",
       "\n",
       "    .dataframe tbody tr th {\n",
       "        vertical-align: top;\n",
       "    }\n",
       "\n",
       "    .dataframe thead th {\n",
       "        text-align: right;\n",
       "    }\n",
       "</style>\n",
       "<table border=\"1\" class=\"dataframe\">\n",
       "  <thead>\n",
       "    <tr style=\"text-align: right;\">\n",
       "      <th></th>\n",
       "      <th>jobId</th>\n",
       "      <th>companyId</th>\n",
       "      <th>jobType</th>\n",
       "      <th>degree</th>\n",
       "      <th>major</th>\n",
       "      <th>industry</th>\n",
       "      <th>yearsExperience</th>\n",
       "      <th>milesFromMetropolis</th>\n",
       "      <th>salary</th>\n",
       "    </tr>\n",
       "  </thead>\n",
       "  <tbody>\n",
       "    <tr>\n",
       "      <th>30559</th>\n",
       "      <td>JOB1362684438246</td>\n",
       "      <td>COMP44</td>\n",
       "      <td>JUNIOR</td>\n",
       "      <td>DOCTORAL</td>\n",
       "      <td>MATH</td>\n",
       "      <td>AUTO</td>\n",
       "      <td>11</td>\n",
       "      <td>7</td>\n",
       "      <td>0</td>\n",
       "    </tr>\n",
       "    <tr>\n",
       "      <th>495984</th>\n",
       "      <td>JOB1362684903671</td>\n",
       "      <td>COMP34</td>\n",
       "      <td>JUNIOR</td>\n",
       "      <td>NONE</td>\n",
       "      <td>NONE</td>\n",
       "      <td>OIL</td>\n",
       "      <td>1</td>\n",
       "      <td>25</td>\n",
       "      <td>0</td>\n",
       "    </tr>\n",
       "    <tr>\n",
       "      <th>652076</th>\n",
       "      <td>JOB1362685059763</td>\n",
       "      <td>COMP25</td>\n",
       "      <td>CTO</td>\n",
       "      <td>HIGH_SCHOOL</td>\n",
       "      <td>NONE</td>\n",
       "      <td>AUTO</td>\n",
       "      <td>6</td>\n",
       "      <td>60</td>\n",
       "      <td>0</td>\n",
       "    </tr>\n",
       "    <tr>\n",
       "      <th>816129</th>\n",
       "      <td>JOB1362685223816</td>\n",
       "      <td>COMP42</td>\n",
       "      <td>MANAGER</td>\n",
       "      <td>DOCTORAL</td>\n",
       "      <td>ENGINEERING</td>\n",
       "      <td>FINANCE</td>\n",
       "      <td>18</td>\n",
       "      <td>6</td>\n",
       "      <td>0</td>\n",
       "    </tr>\n",
       "    <tr>\n",
       "      <th>828156</th>\n",
       "      <td>JOB1362685235843</td>\n",
       "      <td>COMP40</td>\n",
       "      <td>VICE_PRESIDENT</td>\n",
       "      <td>MASTERS</td>\n",
       "      <td>ENGINEERING</td>\n",
       "      <td>WEB</td>\n",
       "      <td>3</td>\n",
       "      <td>29</td>\n",
       "      <td>0</td>\n",
       "    </tr>\n",
       "  </tbody>\n",
       "</table>\n",
       "</div>"
      ],
      "text/plain": [
       "                   jobId companyId         jobType       degree        major  \\\n",
       "30559   JOB1362684438246    COMP44          JUNIOR     DOCTORAL         MATH   \n",
       "495984  JOB1362684903671    COMP34          JUNIOR         NONE         NONE   \n",
       "652076  JOB1362685059763    COMP25             CTO  HIGH_SCHOOL         NONE   \n",
       "816129  JOB1362685223816    COMP42         MANAGER     DOCTORAL  ENGINEERING   \n",
       "828156  JOB1362685235843    COMP40  VICE_PRESIDENT      MASTERS  ENGINEERING   \n",
       "\n",
       "       industry  yearsExperience  milesFromMetropolis  salary  \n",
       "30559      AUTO               11                    7       0  \n",
       "495984      OIL                1                   25       0  \n",
       "652076     AUTO                6                   60       0  \n",
       "816129  FINANCE               18                    6       0  \n",
       "828156      WEB                3                   29       0  "
      ]
     },
     "execution_count": 12,
     "metadata": {},
     "output_type": "execute_result"
    }
   ],
   "source": [
    "#Check those data with 0 values of salaries\n",
    "#query = 0\n",
    "train.query('salary == %d' %0)"
   ]
  },
  {
   "cell_type": "code",
   "execution_count": 13,
   "metadata": {},
   "outputs": [
    {
     "name": "stdout",
     "output_type": "stream",
     "text": [
      "jobId_none: 0\n",
      "companyId_none: 0\n",
      "jobType_none: 0\n",
      "degree_none: 236854\n",
      "major_none: 532355\n",
      "industry_none: 0\n"
     ]
    }
   ],
   "source": [
    "#what fraction of data have \"NONE\" jobId\n",
    "jobId_none = sum(n=='NONE' for n in train.jobId)\n",
    "print(\"jobId_none:\", jobId_none)\n",
    "\n",
    "#what fraction of data have \"NONE\" companyId\n",
    "companyId_none = sum(n=='NONE' for n in train.companyId)\n",
    "print(\"companyId_none:\", companyId_none)\n",
    "\n",
    "#what fraction of data have \"NONE\" jobType\n",
    "jobType_none = sum(n=='NONE' for n in train.jobType)\n",
    "print(\"jobType_none:\", jobType_none)\n",
    "\n",
    "#what fraction of data have \"NONE\" degree\n",
    "degree_none = sum(n=='NONE' for n in train.degree)\n",
    "print(\"degree_none:\", degree_none)\n",
    "\n",
    "#what fraction of data have \"NONE\" majors\n",
    "major_none = sum(n=='NONE' for n in train.major)\n",
    "print(\"major_none:\", major_none)\n",
    "\n",
    "#what fraction of data have \"NONE\" industry\n",
    "industry_none = sum(n=='NONE' for n in train.industry)\n",
    "print(\"industry_none:\", industry_none)"
   ]
  },
  {
   "cell_type": "code",
   "execution_count": 14,
   "metadata": {},
   "outputs": [
    {
     "name": "stdout",
     "output_type": "stream",
     "text": [
      "train_data shape: (999995, 9)\n",
      "\n",
      "\n"
     ]
    },
    {
     "data": {
      "text/html": [
       "<div>\n",
       "<style scoped>\n",
       "    .dataframe tbody tr th:only-of-type {\n",
       "        vertical-align: middle;\n",
       "    }\n",
       "\n",
       "    .dataframe tbody tr th {\n",
       "        vertical-align: top;\n",
       "    }\n",
       "\n",
       "    .dataframe thead th {\n",
       "        text-align: right;\n",
       "    }\n",
       "</style>\n",
       "<table border=\"1\" class=\"dataframe\">\n",
       "  <thead>\n",
       "    <tr style=\"text-align: right;\">\n",
       "      <th></th>\n",
       "      <th>jobId</th>\n",
       "      <th>companyId</th>\n",
       "      <th>jobType</th>\n",
       "      <th>degree</th>\n",
       "      <th>major</th>\n",
       "      <th>industry</th>\n",
       "      <th>yearsExperience</th>\n",
       "      <th>milesFromMetropolis</th>\n",
       "      <th>salary</th>\n",
       "    </tr>\n",
       "  </thead>\n",
       "  <tbody>\n",
       "    <tr>\n",
       "      <th>999990</th>\n",
       "      <td>JOB1362685407682</td>\n",
       "      <td>COMP56</td>\n",
       "      <td>VICE_PRESIDENT</td>\n",
       "      <td>BACHELORS</td>\n",
       "      <td>CHEMISTRY</td>\n",
       "      <td>HEALTH</td>\n",
       "      <td>19</td>\n",
       "      <td>94</td>\n",
       "      <td>88</td>\n",
       "    </tr>\n",
       "    <tr>\n",
       "      <th>999991</th>\n",
       "      <td>JOB1362685407683</td>\n",
       "      <td>COMP24</td>\n",
       "      <td>CTO</td>\n",
       "      <td>HIGH_SCHOOL</td>\n",
       "      <td>NONE</td>\n",
       "      <td>FINANCE</td>\n",
       "      <td>12</td>\n",
       "      <td>35</td>\n",
       "      <td>160</td>\n",
       "    </tr>\n",
       "    <tr>\n",
       "      <th>999992</th>\n",
       "      <td>JOB1362685407684</td>\n",
       "      <td>COMP23</td>\n",
       "      <td>JUNIOR</td>\n",
       "      <td>HIGH_SCHOOL</td>\n",
       "      <td>NONE</td>\n",
       "      <td>EDUCATION</td>\n",
       "      <td>16</td>\n",
       "      <td>81</td>\n",
       "      <td>64</td>\n",
       "    </tr>\n",
       "    <tr>\n",
       "      <th>999993</th>\n",
       "      <td>JOB1362685407685</td>\n",
       "      <td>COMP3</td>\n",
       "      <td>CFO</td>\n",
       "      <td>MASTERS</td>\n",
       "      <td>NONE</td>\n",
       "      <td>HEALTH</td>\n",
       "      <td>6</td>\n",
       "      <td>5</td>\n",
       "      <td>149</td>\n",
       "    </tr>\n",
       "    <tr>\n",
       "      <th>999994</th>\n",
       "      <td>JOB1362685407686</td>\n",
       "      <td>COMP59</td>\n",
       "      <td>JUNIOR</td>\n",
       "      <td>BACHELORS</td>\n",
       "      <td>NONE</td>\n",
       "      <td>EDUCATION</td>\n",
       "      <td>20</td>\n",
       "      <td>11</td>\n",
       "      <td>88</td>\n",
       "    </tr>\n",
       "  </tbody>\n",
       "</table>\n",
       "</div>"
      ],
      "text/plain": [
       "                   jobId companyId         jobType       degree      major  \\\n",
       "999990  JOB1362685407682    COMP56  VICE_PRESIDENT    BACHELORS  CHEMISTRY   \n",
       "999991  JOB1362685407683    COMP24             CTO  HIGH_SCHOOL       NONE   \n",
       "999992  JOB1362685407684    COMP23          JUNIOR  HIGH_SCHOOL       NONE   \n",
       "999993  JOB1362685407685     COMP3             CFO      MASTERS       NONE   \n",
       "999994  JOB1362685407686    COMP59          JUNIOR    BACHELORS       NONE   \n",
       "\n",
       "         industry  yearsExperience  milesFromMetropolis  salary  \n",
       "999990     HEALTH               19                   94      88  \n",
       "999991    FINANCE               12                   35     160  \n",
       "999992  EDUCATION               16                   81      64  \n",
       "999993     HEALTH                6                    5     149  \n",
       "999994  EDUCATION               20                   11      88  "
      ]
     },
     "execution_count": 14,
     "metadata": {},
     "output_type": "execute_result"
    }
   ],
   "source": [
    "# Get names of indexes for which column salary has value 0\n",
    "indexNames = train[ train['salary'] == 0 ].index\n",
    "\n",
    "# Delete these row indexes from dataFrame\n",
    "train_data = train.copy()\n",
    "train_data.drop(indexNames, inplace=True)\n",
    "train_data.reset_index(drop=True, inplace=True)\n",
    "\n",
    "print('train_data shape:', train_data.shape)\n",
    "print('\\n')\n",
    "train_data.tail(5)"
   ]
  },
  {
   "cell_type": "code",
   "execution_count": 15,
   "metadata": {},
   "outputs": [
    {
     "name": "stdout",
     "output_type": "stream",
     "text": [
      "              total        used        free      shared  buff/cache   available\r\n",
      "Mem:           9761        3347        5491         195         922        5940\r\n",
      "Swap:             0           0           0\r\n"
     ]
    }
   ],
   "source": [
    "! free -m"
   ]
  },
  {
   "cell_type": "markdown",
   "metadata": {},
   "source": [
    "### ---- 4 Explore the data (EDA) ----"
   ]
  },
  {
   "cell_type": "markdown",
   "metadata": {},
   "source": [
    "summarize each feature variable\n",
    "summarize the target variable\n",
    "look for correlation between each feature and the target\n",
    "look for correlation between features"
   ]
  },
  {
   "cell_type": "code",
   "execution_count": 18,
   "metadata": {},
   "outputs": [
    {
     "data": {
      "text/plain": [
       "jobId                  999995\n",
       "companyId                  63\n",
       "jobType                     8\n",
       "degree                      5\n",
       "major                       9\n",
       "industry                    7\n",
       "yearsExperience            25\n",
       "milesFromMetropolis       100\n",
       "salary                    279\n",
       "dtype: int64"
      ]
     },
     "execution_count": 18,
     "metadata": {},
     "output_type": "execute_result"
    }
   ],
   "source": [
    "# Finding count of distinct elements in DataFrame in each feature and target\n",
    "train_data.nunique()"
   ]
  },
  {
   "cell_type": "code",
   "execution_count": 19,
   "metadata": {},
   "outputs": [
    {
     "name": "stdout",
     "output_type": "stream",
     "text": [
      "companyId_uniqueValues:\n",
      " ['COMP37' 'COMP19' 'COMP52' 'COMP38' 'COMP7' 'COMP15' 'COMP24' 'COMP20'\n",
      " 'COMP41' 'COMP56' 'COMP4' 'COMP54' 'COMP57' 'COMP14' 'COMP61' 'COMP58'\n",
      " 'COMP3' 'COMP44' 'COMP30' 'COMP27' 'COMP34' 'COMP11' 'COMP31' 'COMP49'\n",
      " 'COMP0' 'COMP1' 'COMP36' 'COMP47' 'COMP8' 'COMP42' 'COMP50' 'COMP53'\n",
      " 'COMP48' 'COMP45' 'COMP46' 'COMP2' 'COMP5' 'COMP55' 'COMP29' 'COMP40'\n",
      " 'COMP33' 'COMP22' 'COMP12' 'COMP25' 'COMP6' 'COMP23' 'COMP17' 'COMP28'\n",
      " 'COMP21' 'COMP26' 'COMP43' 'COMP51' 'COMP10' 'COMP59' 'COMP13' 'COMP39'\n",
      " 'COMP16' 'COMP9' 'COMP32' 'COMP62' 'COMP35' 'COMP18' 'COMP60']\n",
      "\n",
      "\n",
      "jobType_uniqueValues:\n",
      " ['CFO' 'CEO' 'VICE_PRESIDENT' 'MANAGER' 'JUNIOR' 'JANITOR' 'CTO' 'SENIOR']\n",
      "\n",
      "\n",
      "degree_uniqueValues:\n",
      " ['MASTERS' 'HIGH_SCHOOL' 'DOCTORAL' 'BACHELORS' 'NONE']\n",
      "\n",
      "\n",
      "major_uniqueValues:\n",
      " ['MATH' 'NONE' 'PHYSICS' 'CHEMISTRY' 'COMPSCI' 'BIOLOGY' 'LITERATURE'\n",
      " 'BUSINESS' 'ENGINEERING']\n",
      "\n",
      "\n",
      "industry_uniqueValues:\n",
      " ['HEALTH' 'WEB' 'AUTO' 'FINANCE' 'EDUCATION' 'OIL' 'SERVICE']\n",
      "\n",
      "\n",
      "yearsExperience_uniqueValues:\n",
      " [10  3  8  2 23  9  1 17 24  7 21 13 11 14 18 20 12 15 22  0 19  5  4 16\n",
      "  6]\n",
      "\n",
      "\n",
      "milesFromMetropolis_uniqueValues:\n",
      " [83 73 38 17 16 31 24 70 54 68 30 79 29 26 81  8 91 43 66 99 96 62 69 63\n",
      " 40  6 23  9  2 32 78 14 58 35 93 82 87 76 22 44 72  4 25 36  5 71 65 53\n",
      " 13 33 55 61 98 59 15 75 56 11 12 34 21 52 46 48 97 28 94 41 74 60 95 80\n",
      " 89 10 50 49  3 88 47 51 18 92 42 39 67 84 86  0 19 20 57 37 64  1 27 77\n",
      " 90 45 85  7]\n",
      "\n",
      "\n",
      "salary_uniqueValues:\n",
      " [130 101 137 142 163 113 178  73  31 104 102 144  79 193  47 172 126 122\n",
      "  95  32  68 105  76 202 131 158  82 159 132 165 100 164 115 206 183 114\n",
      " 141 119  91 106 112 116 148 173  70  88  96 118 140 161 111  55 217  62\n",
      "  86  80 168 133 129  89 135  94 169  90 110 179 176  84 162 107 125 205\n",
      "  72 127  99 145 170 180 117 207 151 108 121 166  49  75 194  52 154 146\n",
      " 171 139 174  57  78 152 155  65 123  48  42  50 156 128  83  69  85  59\n",
      " 136  93  67 138 134  97 160 195  63 153  74 120 187  92 223  51  77 103\n",
      " 150  45 143  34 124 109 190  98  58 149 157 147  71  64 167  46 184  33\n",
      "  87 188  60  23 177  61 196 175  54  38  66 185 181 197 248  81 189  56\n",
      " 204 214  53  39 218 199 192 240 210 186 201 225  44  35  29  36  37 200\n",
      " 191 209  43 247 229 220  40 182  28 198 232 203 241 212 238 213 208 234\n",
      " 243  41  24 237 222  30 230 231 219 221 233 254 235 215 211  27  25 239\n",
      " 226 259 216 283 236 224 228  26  20 273 271 255 227 251 246 249 245 258\n",
      " 244 265 263 252 269 242 266 264 253 270 268 250 285 262 261 272 275 280\n",
      "  21  22 257 292 256 288 260  19 286 277 276 274 278  17 267 281  18 282\n",
      " 279 294 284 290 301 289 293 298 287]\n"
     ]
    }
   ],
   "source": [
    "# Showing distinct elements in DataFrame in each feature and target\n",
    "companyId_uniqueValues = train_data['companyId'].unique()\n",
    "jobType_uniqueValues = train_data['jobType'].unique()\n",
    "degree_uniqueValues = train_data['degree'].unique()\n",
    "major_uniqueValues = train_data['major'].unique()\n",
    "industry_uniqueValues = train_data['industry'].unique()\n",
    "yearsExperience_uniqueValues = train_data['yearsExperience'].unique()\n",
    "milesFromMetropolis_uniqueValues = train_data['milesFromMetropolis'].unique()\n",
    "salary_uniqueValues = train_data['salary'].unique()\n",
    "\n",
    "print('companyId_uniqueValues:\\n', companyId_uniqueValues)\n",
    "print('\\n')\n",
    "print('jobType_uniqueValues:\\n', jobType_uniqueValues)\n",
    "print('\\n')\n",
    "print('degree_uniqueValues:\\n', degree_uniqueValues)\n",
    "print('\\n')\n",
    "print('major_uniqueValues:\\n', major_uniqueValues)\n",
    "print('\\n')\n",
    "print('industry_uniqueValues:\\n', industry_uniqueValues)\n",
    "print('\\n')\n",
    "print('yearsExperience_uniqueValues:\\n', yearsExperience_uniqueValues)\n",
    "print('\\n')\n",
    "print('milesFromMetropolis_uniqueValues:\\n', milesFromMetropolis_uniqueValues)\n",
    "print('\\n')\n",
    "print('salary_uniqueValues:\\n', salary_uniqueValues)"
   ]
  },
  {
   "cell_type": "code",
   "execution_count": 285,
   "metadata": {},
   "outputs": [],
   "source": [
    "# Now we can get the correlation between the 'salary' and all the other features\n",
    "# make sure to specify some features that you might want to focus on or the plots might be too big\n",
    "#attributes = ['companyId', 'jobType', 'degree', 'major', 'industry', 'yearsExperience', 'milesFromMetropolis', 'salary']\n",
    "#scatter_matrix(train_data[attributes], figsize=(20, 20))"
   ]
  },
  {
   "cell_type": "code",
   "execution_count": 286,
   "metadata": {},
   "outputs": [],
   "source": [
    "# Create a correlation matrix. What features correlate the most with turnover? What other correlations did you find?\n",
    "#corr = train_data.corr()\n",
    "#sns.heatmap(corr, \n",
    "#            xticklabels=corr.columns.values,\n",
    "#            yticklabels=corr.columns.values)\n",
    "#plt.title('Heatmap of Correlation Matrix')\n",
    "#corr"
   ]
  },
  {
   "cell_type": "code",
   "execution_count": 20,
   "metadata": {},
   "outputs": [
    {
     "data": {
      "text/plain": [
       "jobId                  category\n",
       "companyId              category\n",
       "jobType                category\n",
       "degree                 category\n",
       "major                  category\n",
       "industry               category\n",
       "yearsExperience           int64\n",
       "milesFromMetropolis       int64\n",
       "salary                    int64\n",
       "dtype: object"
      ]
     },
     "execution_count": 20,
     "metadata": {},
     "output_type": "execute_result"
    }
   ],
   "source": [
    "#conver object type columns to categorical features\n",
    "# ['jobId', companyId', 'jobType', 'degree', 'major', 'industry'] are all categorical features where\n",
    "# 'degree' and 'jobType' should be encoded as ordinal because of the importance of order while \n",
    "# the rest should be encoded as onehot because of its non-ordinal nature\n",
    "for col in ['jobId', 'companyId', 'jobType', 'degree', 'major', 'industry']:\n",
    "    train_data[col] = train_data[col].astype('category')\n",
    "train_data.dtypes"
   ]
  },
  {
   "cell_type": "code",
   "execution_count": 21,
   "metadata": {},
   "outputs": [
    {
     "name": "stdout",
     "output_type": "stream",
     "text": [
      "              total        used        free      shared  buff/cache   available\r\n",
      "Mem:           9761        3373        5448         210         939        5898\r\n",
      "Swap:             0           0           0\r\n"
     ]
    }
   ],
   "source": [
    "! free -m"
   ]
  },
  {
   "cell_type": "code",
   "execution_count": 22,
   "metadata": {},
   "outputs": [
    {
     "name": "stdout",
     "output_type": "stream",
     "text": [
      "engineered dataset shape:\n",
      " (999995, 85)\n",
      "\n",
      "\n",
      "<class 'pandas.core.frame.DataFrame'>\n",
      "Int64Index: 999995 entries, 0 to 999994\n",
      "Data columns (total 85 columns):\n",
      " #   Column               Non-Null Count   Dtype   \n",
      "---  ------               --------------   -----   \n",
      " 0   jobId                999995 non-null  category\n",
      " 1   jobType              999995 non-null  int64   \n",
      " 2   degree               999995 non-null  int64   \n",
      " 3   yearsExperience      999995 non-null  int64   \n",
      " 4   milesFromMetropolis  999995 non-null  int64   \n",
      " 5   industry_WEB         999995 non-null  uint8   \n",
      " 6   companyId_COMP0      999995 non-null  uint8   \n",
      " 7   companyId_COMP1      999995 non-null  uint8   \n",
      " 8   companyId_COMP10     999995 non-null  uint8   \n",
      " 9   companyId_COMP11     999995 non-null  uint8   \n",
      " 10  companyId_COMP12     999995 non-null  uint8   \n",
      " 11  companyId_COMP13     999995 non-null  uint8   \n",
      " 12  companyId_COMP14     999995 non-null  uint8   \n",
      " 13  companyId_COMP15     999995 non-null  uint8   \n",
      " 14  companyId_COMP16     999995 non-null  uint8   \n",
      " 15  companyId_COMP17     999995 non-null  uint8   \n",
      " 16  companyId_COMP18     999995 non-null  uint8   \n",
      " 17  companyId_COMP19     999995 non-null  uint8   \n",
      " 18  companyId_COMP2      999995 non-null  uint8   \n",
      " 19  companyId_COMP20     999995 non-null  uint8   \n",
      " 20  companyId_COMP21     999995 non-null  uint8   \n",
      " 21  companyId_COMP22     999995 non-null  uint8   \n",
      " 22  companyId_COMP23     999995 non-null  uint8   \n",
      " 23  companyId_COMP24     999995 non-null  uint8   \n",
      " 24  companyId_COMP25     999995 non-null  uint8   \n",
      " 25  companyId_COMP26     999995 non-null  uint8   \n",
      " 26  companyId_COMP27     999995 non-null  uint8   \n",
      " 27  companyId_COMP28     999995 non-null  uint8   \n",
      " 28  companyId_COMP29     999995 non-null  uint8   \n",
      " 29  companyId_COMP3      999995 non-null  uint8   \n",
      " 30  companyId_COMP30     999995 non-null  uint8   \n",
      " 31  companyId_COMP31     999995 non-null  uint8   \n",
      " 32  companyId_COMP32     999995 non-null  uint8   \n",
      " 33  companyId_COMP33     999995 non-null  uint8   \n",
      " 34  companyId_COMP34     999995 non-null  uint8   \n",
      " 35  companyId_COMP35     999995 non-null  uint8   \n",
      " 36  companyId_COMP36     999995 non-null  uint8   \n",
      " 37  companyId_COMP37     999995 non-null  uint8   \n",
      " 38  companyId_COMP38     999995 non-null  uint8   \n",
      " 39  companyId_COMP39     999995 non-null  uint8   \n",
      " 40  companyId_COMP4      999995 non-null  uint8   \n",
      " 41  companyId_COMP40     999995 non-null  uint8   \n",
      " 42  companyId_COMP41     999995 non-null  uint8   \n",
      " 43  companyId_COMP42     999995 non-null  uint8   \n",
      " 44  companyId_COMP43     999995 non-null  uint8   \n",
      " 45  companyId_COMP44     999995 non-null  uint8   \n",
      " 46  companyId_COMP45     999995 non-null  uint8   \n",
      " 47  companyId_COMP46     999995 non-null  uint8   \n",
      " 48  companyId_COMP47     999995 non-null  uint8   \n",
      " 49  companyId_COMP48     999995 non-null  uint8   \n",
      " 50  companyId_COMP49     999995 non-null  uint8   \n",
      " 51  companyId_COMP5      999995 non-null  uint8   \n",
      " 52  companyId_COMP50     999995 non-null  uint8   \n",
      " 53  companyId_COMP51     999995 non-null  uint8   \n",
      " 54  companyId_COMP52     999995 non-null  uint8   \n",
      " 55  companyId_COMP53     999995 non-null  uint8   \n",
      " 56  companyId_COMP54     999995 non-null  uint8   \n",
      " 57  companyId_COMP55     999995 non-null  uint8   \n",
      " 58  companyId_COMP56     999995 non-null  uint8   \n",
      " 59  companyId_COMP57     999995 non-null  uint8   \n",
      " 60  companyId_COMP58     999995 non-null  uint8   \n",
      " 61  companyId_COMP59     999995 non-null  uint8   \n",
      " 62  companyId_COMP6      999995 non-null  uint8   \n",
      " 63  companyId_COMP60     999995 non-null  uint8   \n",
      " 64  companyId_COMP61     999995 non-null  uint8   \n",
      " 65  companyId_COMP62     999995 non-null  uint8   \n",
      " 66  companyId_COMP7      999995 non-null  uint8   \n",
      " 67  companyId_COMP8      999995 non-null  uint8   \n",
      " 68  companyId_COMP9      999995 non-null  uint8   \n",
      " 69  major_BIOLOGY        999995 non-null  uint8   \n",
      " 70  major_BUSINESS       999995 non-null  uint8   \n",
      " 71  major_CHEMISTRY      999995 non-null  uint8   \n",
      " 72  major_COMPSCI        999995 non-null  uint8   \n",
      " 73  major_ENGINEERING    999995 non-null  uint8   \n",
      " 74  major_LITERATURE     999995 non-null  uint8   \n",
      " 75  major_MATH           999995 non-null  uint8   \n",
      " 76  major_NONE           999995 non-null  uint8   \n",
      " 77  major_PHYSICS        999995 non-null  uint8   \n",
      " 78  industry_AUTO        999995 non-null  uint8   \n",
      " 79  industry_EDUCATION   999995 non-null  uint8   \n",
      " 80  industry_FINANCE     999995 non-null  uint8   \n",
      " 81  industry_HEALTH      999995 non-null  uint8   \n",
      " 82  industry_OIL         999995 non-null  uint8   \n",
      " 83  industry_SERVICE     999995 non-null  uint8   \n",
      " 84  salary               999995 non-null  int64   \n",
      "dtypes: category(1), int64(5), uint8(79)\n",
      "memory usage: 172.6 MB\n"
     ]
    }
   ],
   "source": [
    "# Feature Engineering to convert categorical data to numerical values either through onehot encoding or label encoding\n",
    "\n",
    "train_data_NonEngineered = train_data.copy()\n",
    "#train_data_Engineered = train_data_Engineered_ohe.copy()\n",
    "# replace oridinal categorical features in place\n",
    "replace_map = {'degree': {'NONE': 1, 'HIGH_SCHOOL': 2, 'BACHELORS': 3, 'MASTERS': 4, 'DOCTORAL': 5}, \n",
    "               'jobType': {'JANITOR':1, 'MANAGER':2, 'JUNIOR':3, 'SENIOR':4, 'VICE_PRESIDENT':5, 'CTO':6, 'CFO':7, 'CEO':8}\n",
    "              }\n",
    "train_data_NonEngineered.replace(replace_map, inplace=True)\n",
    "\n",
    "\n",
    "train_data_NonEngineered = train_data_NonEngineered.copy()\n",
    "# generate binary values using get_dummies to onehot encode the non-ordinal categorical features\n",
    "dum_df = pd.get_dummies(train_data_NonEngineered, columns=['companyId', 'major', 'industry'], prefix=[\"companyId\", \"major\", \"industry\"])\n",
    "\n",
    "\n",
    "\n",
    "# merge with main train_data_engineered dum_df on key values\n",
    "train_data_Engineered = pd.merge(train_data_NonEngineered, dum_df, on=['jobId', 'jobType', 'degree', 'yearsExperience', 'milesFromMetropolis', 'salary'], how='right').drop(columns=['companyId', 'major', 'industry'])\n",
    "\n",
    "#taking salary \"target\" to the end of table\n",
    "columnsName = list(train_data_Engineered.columns)\n",
    "salary, last = columnsName.index('salary'), columnsName.index(columnsName[-1])\n",
    "columnsName[salary], columnsName[last] = columnsName[last],columnsName[salary]\n",
    "train_data_Engineered = train_data_Engineered[columnsName]\n",
    "\n",
    "print('engineered dataset shape:\\n', train_data_Engineered.shape)\n",
    "print('\\n')\n",
    "train_data_Engineered.info()"
   ]
  },
  {
   "cell_type": "code",
   "execution_count": 23,
   "metadata": {},
   "outputs": [
    {
     "name": "stdout",
     "output_type": "stream",
     "text": [
      "              total        used        free      shared  buff/cache   available\r\n",
      "Mem:           9761        3750        5070         210         939        5521\r\n",
      "Swap:             0           0           0\r\n"
     ]
    }
   ],
   "source": [
    "! free -m"
   ]
  },
  {
   "cell_type": "code",
   "execution_count": 24,
   "metadata": {},
   "outputs": [
    {
     "data": {
      "text/html": [
       "<div>\n",
       "<style scoped>\n",
       "    .dataframe tbody tr th:only-of-type {\n",
       "        vertical-align: middle;\n",
       "    }\n",
       "\n",
       "    .dataframe tbody tr th {\n",
       "        vertical-align: top;\n",
       "    }\n",
       "\n",
       "    .dataframe thead th {\n",
       "        text-align: right;\n",
       "    }\n",
       "</style>\n",
       "<table border=\"1\" class=\"dataframe\">\n",
       "  <thead>\n",
       "    <tr style=\"text-align: right;\">\n",
       "      <th></th>\n",
       "      <th>yearsExperience</th>\n",
       "      <th>milesFromMetropolis</th>\n",
       "      <th>salary</th>\n",
       "    </tr>\n",
       "  </thead>\n",
       "  <tbody>\n",
       "    <tr>\n",
       "      <th>count</th>\n",
       "      <td>999995.000000</td>\n",
       "      <td>999995.000000</td>\n",
       "      <td>999995.000000</td>\n",
       "    </tr>\n",
       "    <tr>\n",
       "      <th>mean</th>\n",
       "      <td>11.992407</td>\n",
       "      <td>49.529381</td>\n",
       "      <td>116.062398</td>\n",
       "    </tr>\n",
       "    <tr>\n",
       "      <th>std</th>\n",
       "      <td>7.212390</td>\n",
       "      <td>28.877721</td>\n",
       "      <td>38.717163</td>\n",
       "    </tr>\n",
       "    <tr>\n",
       "      <th>min</th>\n",
       "      <td>0.000000</td>\n",
       "      <td>0.000000</td>\n",
       "      <td>17.000000</td>\n",
       "    </tr>\n",
       "    <tr>\n",
       "      <th>25%</th>\n",
       "      <td>6.000000</td>\n",
       "      <td>25.000000</td>\n",
       "      <td>88.000000</td>\n",
       "    </tr>\n",
       "    <tr>\n",
       "      <th>50%</th>\n",
       "      <td>12.000000</td>\n",
       "      <td>50.000000</td>\n",
       "      <td>114.000000</td>\n",
       "    </tr>\n",
       "    <tr>\n",
       "      <th>75%</th>\n",
       "      <td>18.000000</td>\n",
       "      <td>75.000000</td>\n",
       "      <td>141.000000</td>\n",
       "    </tr>\n",
       "    <tr>\n",
       "      <th>max</th>\n",
       "      <td>24.000000</td>\n",
       "      <td>99.000000</td>\n",
       "      <td>301.000000</td>\n",
       "    </tr>\n",
       "  </tbody>\n",
       "</table>\n",
       "</div>"
      ],
      "text/plain": [
       "       yearsExperience  milesFromMetropolis         salary\n",
       "count    999995.000000        999995.000000  999995.000000\n",
       "mean         11.992407            49.529381     116.062398\n",
       "std           7.212390            28.877721      38.717163\n",
       "min           0.000000             0.000000      17.000000\n",
       "25%           6.000000            25.000000      88.000000\n",
       "50%          12.000000            50.000000     114.000000\n",
       "75%          18.000000            75.000000     141.000000\n",
       "max          24.000000            99.000000     301.000000"
      ]
     },
     "execution_count": 24,
     "metadata": {},
     "output_type": "execute_result"
    }
   ],
   "source": [
    "# Summarize statistical description of numerical features\n",
    "train_data.describe()"
   ]
  },
  {
   "cell_type": "code",
   "execution_count": 25,
   "metadata": {},
   "outputs": [
    {
     "data": {
      "text/plain": [
       "yearsExperience            AxesSubplot(0.08,0.125;0.255882x0.755)\n",
       "milesFromMetropolis    AxesSubplot(0.387059,0.125;0.255882x0.755)\n",
       "salary                 AxesSubplot(0.694118,0.125;0.255882x0.755)\n",
       "dtype: object"
      ]
     },
     "execution_count": 25,
     "metadata": {},
     "output_type": "execute_result"
    },
    {
     "data": {
      "image/png": "[encoded data removed]",
      "text/plain": [
       "<Figure size 1440x360 with 3 Axes>"
      ]
     },
     "metadata": {
      "needs_background": "light"
     },
     "output_type": "display_data"
    }
   ],
   "source": [
    "# Box and Whisker Plots of numerical features\n",
    "train_data.plot(kind='box', subplots=True, layout=(1,3), sharex=False, sharey=False, figsize=(20,5), fontsize=20)\n",
    "plt.show()"
   ]
  },
  {
   "cell_type": "code",
   "execution_count": 26,
   "metadata": {
    "scrolled": true
   },
   "outputs": [
    {
     "data": {
      "text/plain": [
       "<matplotlib.axes._subplots.AxesSubplot at 0x7f7546867190>"
      ]
     },
     "execution_count": 26,
     "metadata": {},
     "output_type": "execute_result"
    },
    {
     "data": {
      "image/png": "[encoded data removed]",
      "text/plain": [
       "<Figure size 1440x360 with 1 Axes>"
      ]
     },
     "metadata": {
      "needs_background": "light"
     },
     "output_type": "display_data"
    }
   ],
   "source": [
    "# Bar Plot of companyId\n",
    "train_data.companyId.value_counts().plot(kind='bar', figsize=(20,5), fontsize=20)"
   ]
  },
  {
   "cell_type": "code",
   "execution_count": 27,
   "metadata": {},
   "outputs": [
    {
     "data": {
      "text/plain": [
       "<matplotlib.axes._subplots.AxesSubplot at 0x7f754669a890>"
      ]
     },
     "execution_count": 27,
     "metadata": {},
     "output_type": "execute_result"
    },
    {
     "data": {
      "image/png": "[encoded data removed]",
      "text/plain": [
       "<Figure size 1440x360 with 1 Axes>"
      ]
     },
     "metadata": {
      "needs_background": "light"
     },
     "output_type": "display_data"
    }
   ],
   "source": [
    "# Bar Plot of jobType\n",
    "train_data.jobType.value_counts().plot(kind='bar', figsize=(20,5), fontsize=20)"
   ]
  },
  {
   "cell_type": "code",
   "execution_count": 28,
   "metadata": {},
   "outputs": [
    {
     "data": {
      "text/plain": [
       "<matplotlib.axes._subplots.AxesSubplot at 0x7f75465bcf10>"
      ]
     },
     "execution_count": 28,
     "metadata": {},
     "output_type": "execute_result"
    },
    {
     "data": {
      "image/png": "[encoded data removed]",
      "text/plain": [
       "<Figure size 1440x360 with 1 Axes>"
      ]
     },
     "metadata": {
      "needs_background": "light"
     },
     "output_type": "display_data"
    }
   ],
   "source": [
    "# Bar Plot of degree\n",
    "train_data.degree.value_counts().plot(kind='bar', figsize=(20,5), fontsize=20)"
   ]
  },
  {
   "cell_type": "code",
   "execution_count": 29,
   "metadata": {},
   "outputs": [
    {
     "data": {
      "text/plain": [
       "<matplotlib.axes._subplots.AxesSubplot at 0x7f75465850d0>"
      ]
     },
     "execution_count": 29,
     "metadata": {},
     "output_type": "execute_result"
    },
    {
     "data": {
      "image/png": "[encoded data removed]",
      "text/plain": [
       "<Figure size 1440x360 with 1 Axes>"
      ]
     },
     "metadata": {
      "needs_background": "light"
     },
     "output_type": "display_data"
    }
   ],
   "source": [
    "# Bar Plot of major\n",
    "train_data.major.value_counts().plot(kind='bar', figsize=(20,5), fontsize=20)"
   ]
  },
  {
   "cell_type": "code",
   "execution_count": 30,
   "metadata": {},
   "outputs": [
    {
     "data": {
      "text/plain": [
       "<matplotlib.axes._subplots.AxesSubplot at 0x7f7546502310>"
      ]
     },
     "execution_count": 30,
     "metadata": {},
     "output_type": "execute_result"
    },
    {
     "data": {
      "image/png": "[encoded data removed]",
      "text/plain": [
       "<Figure size 1440x360 with 1 Axes>"
      ]
     },
     "metadata": {
      "needs_background": "light"
     },
     "output_type": "display_data"
    }
   ],
   "source": [
    "# Bar Plot of industry\n",
    "train_data.industry.value_counts().plot(kind='bar', figsize=(20,5), fontsize=20)"
   ]
  },
  {
   "cell_type": "code",
   "execution_count": 31,
   "metadata": {},
   "outputs": [
    {
     "data": {
      "text/plain": [
       "<matplotlib.axes._subplots.AxesSubplot at 0x7f754654b5d0>"
      ]
     },
     "execution_count": 31,
     "metadata": {},
     "output_type": "execute_result"
    },
    {
     "data": {
      "image/png": "[encoded data removed]",
      "text/plain": [
       "<Figure size 1440x360 with 1 Axes>"
      ]
     },
     "metadata": {
      "needs_background": "light"
     },
     "output_type": "display_data"
    }
   ],
   "source": [
    "# Bar Plot of yearsExperience\n",
    "train_data.yearsExperience.value_counts().plot(kind='bar', figsize=(20,5), fontsize=20)"
   ]
  },
  {
   "cell_type": "code",
   "execution_count": 32,
   "metadata": {},
   "outputs": [
    {
     "data": {
      "text/plain": [
       "<matplotlib.axes._subplots.AxesSubplot at 0x7f75463ecbd0>"
      ]
     },
     "execution_count": 32,
     "metadata": {},
     "output_type": "execute_result"
    },
    {
     "data": {
      "image/png": "[encoded data removed]",
      "text/plain": [
       "<Figure size 1440x360 with 1 Axes>"
      ]
     },
     "metadata": {
      "needs_background": "light"
     },
     "output_type": "display_data"
    }
   ],
   "source": [
    "# Bar Plot of milesFromMetropolis\n",
    "train_data.milesFromMetropolis.value_counts().plot(kind='bar', figsize=(20,5), fontsize=10)"
   ]
  },
  {
   "cell_type": "code",
   "execution_count": 33,
   "metadata": {},
   "outputs": [
    {
     "data": {
      "text/plain": [
       "<matplotlib.axes._subplots.AxesSubplot at 0x7f7546126bd0>"
      ]
     },
     "execution_count": 33,
     "metadata": {},
     "output_type": "execute_result"
    },
    {
     "data": {
      "text/plain": [
       "Text(0.5, 1.0, 'salary')"
      ]
     },
     "execution_count": 33,
     "metadata": {},
     "output_type": "execute_result"
    },
    {
     "data": {
      "text/plain": [
       "<matplotlib.axes._subplots.AxesSubplot at 0x7f75460d5810>"
      ]
     },
     "execution_count": 33,
     "metadata": {},
     "output_type": "execute_result"
    },
    {
     "data": {
      "text/plain": [
       "Text(0.5, 1.0, 'salary')"
      ]
     },
     "execution_count": 33,
     "metadata": {},
     "output_type": "execute_result"
    },
    {
     "data": {
      "image/png": "[encoded data removed]",
      "text/plain": [
       "<Figure size 1440x360 with 2 Axes>"
      ]
     },
     "metadata": {
      "needs_background": "light"
     },
     "output_type": "display_data"
    }
   ],
   "source": [
    "# Histogram Plots of salary\n",
    "fig, (ax1, ax2) = plt.subplots(1, 2, sharex=False, sharey=False, figsize=(20,5))\n",
    "\n",
    "train_data.salary.hist(ax=ax1, bins=25, xlabelsize=20, ylabelsize=20)\n",
    "ax1.set_title('salary', fontsize=30)\n",
    "\n",
    "train_data.salary.hist(ax=ax2, bins=25, xlabelsize=20, ylabelsize=20)\n",
    "ax2.set_yscale('log')\n",
    "ax2.set_title('salary', fontsize=30)"
   ]
  },
  {
   "cell_type": "code",
   "execution_count": 36,
   "metadata": {},
   "outputs": [
    {
     "data": {
      "text/plain": [
       "<matplotlib.axes._subplots.AxesSubplot at 0x7f7545f33d50>"
      ]
     },
     "execution_count": 36,
     "metadata": {},
     "output_type": "execute_result"
    },
    {
     "data": {
      "text/plain": [
       "Text(0.5, 1, 'Heatmap of Correlation Matrix')"
      ]
     },
     "execution_count": 36,
     "metadata": {},
     "output_type": "execute_result"
    },
    {
     "data": {
      "image/png": "[encoded data removed]",
      "text/plain": [
       "<Figure size 432x288 with 2 Axes>"
      ]
     },
     "metadata": {
      "needs_background": "light"
     },
     "output_type": "display_data"
    }
   ],
   "source": [
    "# Create a correlation matrix. What features correlate the most with salary? What other correlations did you find?\n",
    "sns.heatmap(train_data.corr(), \n",
    "            xticklabels=train_data.corr().columns.values,\n",
    "            yticklabels=train_data.corr().columns.values)\n",
    "plt.title('Heatmap of Correlation Matrix')"
   ]
  },
  {
   "cell_type": "code",
   "execution_count": 40,
   "metadata": {},
   "outputs": [
    {
     "name": "stdout",
     "output_type": "stream",
     "text": [
      "              total        used        free      shared  buff/cache   available\r\n",
      "Mem:           9761        3776        5041         210         942        5495\r\n",
      "Swap:             0           0           0\r\n"
     ]
    }
   ],
   "source": [
    "! free -m"
   ]
  },
  {
   "cell_type": "code",
   "execution_count": 44,
   "metadata": {
    "scrolled": true
   },
   "outputs": [
    {
     "data": {
      "text/plain": [
       "<matplotlib.axes._subplots.AxesSubplot at 0x7f75319e9050>"
      ]
     },
     "execution_count": 44,
     "metadata": {},
     "output_type": "execute_result"
    },
    {
     "data": {
      "text/plain": [
       "Text(0.5, 1, 'Heatmap of Correlation Matrix')"
      ]
     },
     "execution_count": 44,
     "metadata": {},
     "output_type": "execute_result"
    },
    {
     "data": {
      "text/html": [
       "<div>\n",
       "<style scoped>\n",
       "    .dataframe tbody tr th:only-of-type {\n",
       "        vertical-align: middle;\n",
       "    }\n",
       "\n",
       "    .dataframe tbody tr th {\n",
       "        vertical-align: top;\n",
       "    }\n",
       "\n",
       "    .dataframe thead th {\n",
       "        text-align: right;\n",
       "    }\n",
       "</style>\n",
       "<table border=\"1\" class=\"dataframe\">\n",
       "  <thead>\n",
       "    <tr style=\"text-align: right;\">\n",
       "      <th></th>\n",
       "      <th>jobType</th>\n",
       "      <th>degree</th>\n",
       "      <th>yearsExperience</th>\n",
       "      <th>milesFromMetropolis</th>\n",
       "      <th>industry_WEB</th>\n",
       "      <th>companyId_COMP0</th>\n",
       "      <th>companyId_COMP1</th>\n",
       "      <th>companyId_COMP10</th>\n",
       "      <th>companyId_COMP11</th>\n",
       "      <th>companyId_COMP12</th>\n",
       "      <th>...</th>\n",
       "      <th>major_MATH</th>\n",
       "      <th>major_NONE</th>\n",
       "      <th>major_PHYSICS</th>\n",
       "      <th>industry_AUTO</th>\n",
       "      <th>industry_EDUCATION</th>\n",
       "      <th>industry_FINANCE</th>\n",
       "      <th>industry_HEALTH</th>\n",
       "      <th>industry_OIL</th>\n",
       "      <th>industry_SERVICE</th>\n",
       "      <th>salary</th>\n",
       "    </tr>\n",
       "  </thead>\n",
       "  <tbody>\n",
       "    <tr>\n",
       "      <th>jobType</th>\n",
       "      <td>1.000000</td>\n",
       "      <td>0.202033</td>\n",
       "      <td>0.001016</td>\n",
       "      <td>0.000219</td>\n",
       "      <td>0.000620</td>\n",
       "      <td>0.000325</td>\n",
       "      <td>0.001074</td>\n",
       "      <td>-0.000836</td>\n",
       "      <td>0.000643</td>\n",
       "      <td>0.000260</td>\n",
       "      <td>...</td>\n",
       "      <td>0.054054</td>\n",
       "      <td>-0.204741</td>\n",
       "      <td>0.054729</td>\n",
       "      <td>-0.001942</td>\n",
       "      <td>-0.000450</td>\n",
       "      <td>0.000606</td>\n",
       "      <td>0.000356</td>\n",
       "      <td>0.001483</td>\n",
       "      <td>-0.000674</td>\n",
       "      <td>0.536670</td>\n",
       "    </tr>\n",
       "    <tr>\n",
       "      <th>degree</th>\n",
       "      <td>0.202033</td>\n",
       "      <td>1.000000</td>\n",
       "      <td>0.000217</td>\n",
       "      <td>0.001785</td>\n",
       "      <td>-0.000051</td>\n",
       "      <td>-0.000302</td>\n",
       "      <td>0.001470</td>\n",
       "      <td>0.000054</td>\n",
       "      <td>0.000538</td>\n",
       "      <td>-0.001340</td>\n",
       "      <td>...</td>\n",
       "      <td>0.206369</td>\n",
       "      <td>-0.779355</td>\n",
       "      <td>0.207568</td>\n",
       "      <td>0.000911</td>\n",
       "      <td>-0.000483</td>\n",
       "      <td>0.000295</td>\n",
       "      <td>0.001023</td>\n",
       "      <td>0.000599</td>\n",
       "      <td>-0.002294</td>\n",
       "      <td>0.384044</td>\n",
       "    </tr>\n",
       "    <tr>\n",
       "      <th>yearsExperience</th>\n",
       "      <td>0.001016</td>\n",
       "      <td>0.000217</td>\n",
       "      <td>1.000000</td>\n",
       "      <td>0.000672</td>\n",
       "      <td>-0.000233</td>\n",
       "      <td>0.001448</td>\n",
       "      <td>-0.001586</td>\n",
       "      <td>-0.002013</td>\n",
       "      <td>0.000515</td>\n",
       "      <td>0.000859</td>\n",
       "      <td>...</td>\n",
       "      <td>-0.000005</td>\n",
       "      <td>0.000110</td>\n",
       "      <td>-0.000269</td>\n",
       "      <td>-0.001002</td>\n",
       "      <td>0.000436</td>\n",
       "      <td>0.000977</td>\n",
       "      <td>-0.001106</td>\n",
       "      <td>0.000801</td>\n",
       "      <td>0.000128</td>\n",
       "      <td>0.375013</td>\n",
       "    </tr>\n",
       "    <tr>\n",
       "      <th>milesFromMetropolis</th>\n",
       "      <td>0.000219</td>\n",
       "      <td>0.001785</td>\n",
       "      <td>0.000672</td>\n",
       "      <td>1.000000</td>\n",
       "      <td>-0.000935</td>\n",
       "      <td>0.001367</td>\n",
       "      <td>-0.000602</td>\n",
       "      <td>-0.000280</td>\n",
       "      <td>0.000701</td>\n",
       "      <td>0.001146</td>\n",
       "      <td>...</td>\n",
       "      <td>-0.000912</td>\n",
       "      <td>-0.001626</td>\n",
       "      <td>0.000221</td>\n",
       "      <td>0.000345</td>\n",
       "      <td>0.000807</td>\n",
       "      <td>0.000050</td>\n",
       "      <td>-0.000400</td>\n",
       "      <td>-0.000550</td>\n",
       "      <td>0.000685</td>\n",
       "      <td>-0.297686</td>\n",
       "    </tr>\n",
       "    <tr>\n",
       "      <th>industry_WEB</th>\n",
       "      <td>0.000620</td>\n",
       "      <td>-0.000051</td>\n",
       "      <td>-0.000233</td>\n",
       "      <td>-0.000935</td>\n",
       "      <td>1.000000</td>\n",
       "      <td>-0.000355</td>\n",
       "      <td>0.000720</td>\n",
       "      <td>-0.000417</td>\n",
       "      <td>0.000549</td>\n",
       "      <td>-0.001563</td>\n",
       "      <td>...</td>\n",
       "      <td>-0.000297</td>\n",
       "      <td>0.000177</td>\n",
       "      <td>0.000613</td>\n",
       "      <td>-0.166961</td>\n",
       "      <td>-0.166878</td>\n",
       "      <td>-0.166910</td>\n",
       "      <td>-0.166835</td>\n",
       "      <td>-0.166845</td>\n",
       "      <td>-0.166756</td>\n",
       "      <td>0.058953</td>\n",
       "    </tr>\n",
       "    <tr>\n",
       "      <th>...</th>\n",
       "      <td>...</td>\n",
       "      <td>...</td>\n",
       "      <td>...</td>\n",
       "      <td>...</td>\n",
       "      <td>...</td>\n",
       "      <td>...</td>\n",
       "      <td>...</td>\n",
       "      <td>...</td>\n",
       "      <td>...</td>\n",
       "      <td>...</td>\n",
       "      <td>...</td>\n",
       "      <td>...</td>\n",
       "      <td>...</td>\n",
       "      <td>...</td>\n",
       "      <td>...</td>\n",
       "      <td>...</td>\n",
       "      <td>...</td>\n",
       "      <td>...</td>\n",
       "      <td>...</td>\n",
       "      <td>...</td>\n",
       "      <td>...</td>\n",
       "    </tr>\n",
       "    <tr>\n",
       "      <th>industry_FINANCE</th>\n",
       "      <td>0.000606</td>\n",
       "      <td>0.000295</td>\n",
       "      <td>0.000977</td>\n",
       "      <td>0.000050</td>\n",
       "      <td>-0.166910</td>\n",
       "      <td>-0.000510</td>\n",
       "      <td>0.001325</td>\n",
       "      <td>0.001556</td>\n",
       "      <td>-0.000219</td>\n",
       "      <td>-0.000020</td>\n",
       "      <td>...</td>\n",
       "      <td>0.000665</td>\n",
       "      <td>-0.000696</td>\n",
       "      <td>-0.001168</td>\n",
       "      <td>-0.166731</td>\n",
       "      <td>-0.166648</td>\n",
       "      <td>1.000000</td>\n",
       "      <td>-0.166604</td>\n",
       "      <td>-0.166614</td>\n",
       "      <td>-0.166525</td>\n",
       "      <td>0.154853</td>\n",
       "    </tr>\n",
       "    <tr>\n",
       "      <th>industry_HEALTH</th>\n",
       "      <td>0.000356</td>\n",
       "      <td>0.001023</td>\n",
       "      <td>-0.001106</td>\n",
       "      <td>-0.000400</td>\n",
       "      <td>-0.166835</td>\n",
       "      <td>-0.000631</td>\n",
       "      <td>0.001686</td>\n",
       "      <td>-0.001282</td>\n",
       "      <td>0.001194</td>\n",
       "      <td>-0.000301</td>\n",
       "      <td>...</td>\n",
       "      <td>0.000805</td>\n",
       "      <td>-0.000925</td>\n",
       "      <td>0.000910</td>\n",
       "      <td>-0.166655</td>\n",
       "      <td>-0.166572</td>\n",
       "      <td>-0.166604</td>\n",
       "      <td>1.000000</td>\n",
       "      <td>-0.166539</td>\n",
       "      <td>-0.166450</td>\n",
       "      <td>-0.003445</td>\n",
       "    </tr>\n",
       "    <tr>\n",
       "      <th>industry_OIL</th>\n",
       "      <td>0.001483</td>\n",
       "      <td>0.000599</td>\n",
       "      <td>0.000801</td>\n",
       "      <td>-0.000550</td>\n",
       "      <td>-0.166845</td>\n",
       "      <td>0.001573</td>\n",
       "      <td>-0.002214</td>\n",
       "      <td>0.000815</td>\n",
       "      <td>-0.001579</td>\n",
       "      <td>0.001253</td>\n",
       "      <td>...</td>\n",
       "      <td>0.000843</td>\n",
       "      <td>0.000719</td>\n",
       "      <td>-0.000234</td>\n",
       "      <td>-0.166665</td>\n",
       "      <td>-0.166582</td>\n",
       "      <td>-0.166614</td>\n",
       "      <td>-0.166539</td>\n",
       "      <td>1.000000</td>\n",
       "      <td>-0.166460</td>\n",
       "      <td>0.156966</td>\n",
       "    </tr>\n",
       "    <tr>\n",
       "      <th>industry_SERVICE</th>\n",
       "      <td>-0.000674</td>\n",
       "      <td>-0.002294</td>\n",
       "      <td>0.000128</td>\n",
       "      <td>0.000685</td>\n",
       "      <td>-0.166756</td>\n",
       "      <td>-0.000014</td>\n",
       "      <td>0.000400</td>\n",
       "      <td>0.000863</td>\n",
       "      <td>-0.001143</td>\n",
       "      <td>0.000154</td>\n",
       "      <td>...</td>\n",
       "      <td>-0.001931</td>\n",
       "      <td>0.001177</td>\n",
       "      <td>0.000066</td>\n",
       "      <td>-0.166576</td>\n",
       "      <td>-0.166493</td>\n",
       "      <td>-0.166525</td>\n",
       "      <td>-0.166450</td>\n",
       "      <td>-0.166460</td>\n",
       "      <td>1.000000</td>\n",
       "      <td>-0.122370</td>\n",
       "    </tr>\n",
       "    <tr>\n",
       "      <th>salary</th>\n",
       "      <td>0.536670</td>\n",
       "      <td>0.384044</td>\n",
       "      <td>0.375013</td>\n",
       "      <td>-0.297686</td>\n",
       "      <td>0.058953</td>\n",
       "      <td>-0.000322</td>\n",
       "      <td>-0.000045</td>\n",
       "      <td>-0.000140</td>\n",
       "      <td>0.000166</td>\n",
       "      <td>0.000079</td>\n",
       "      <td>...</td>\n",
       "      <td>0.110413</td>\n",
       "      <td>-0.371435</td>\n",
       "      <td>0.092056</td>\n",
       "      <td>-0.069904</td>\n",
       "      <td>-0.175158</td>\n",
       "      <td>0.154853</td>\n",
       "      <td>-0.003445</td>\n",
       "      <td>0.156966</td>\n",
       "      <td>-0.122370</td>\n",
       "      <td>1.000000</td>\n",
       "    </tr>\n",
       "  </tbody>\n",
       "</table>\n",
       "<p>84 rows × 84 columns</p>\n",
       "</div>"
      ],
      "text/plain": [
       "                      jobType    degree  yearsExperience  milesFromMetropolis  \\\n",
       "jobType              1.000000  0.202033         0.001016             0.000219   \n",
       "degree               0.202033  1.000000         0.000217             0.001785   \n",
       "yearsExperience      0.001016  0.000217         1.000000             0.000672   \n",
       "milesFromMetropolis  0.000219  0.001785         0.000672             1.000000   \n",
       "industry_WEB         0.000620 -0.000051        -0.000233            -0.000935   \n",
       "...                       ...       ...              ...                  ...   \n",
       "industry_FINANCE     0.000606  0.000295         0.000977             0.000050   \n",
       "industry_HEALTH      0.000356  0.001023        -0.001106            -0.000400   \n",
       "industry_OIL         0.001483  0.000599         0.000801            -0.000550   \n",
       "industry_SERVICE    -0.000674 -0.002294         0.000128             0.000685   \n",
       "salary               0.536670  0.384044         0.375013            -0.297686   \n",
       "\n",
       "                     industry_WEB  companyId_COMP0  companyId_COMP1  \\\n",
       "jobType                  0.000620         0.000325         0.001074   \n",
       "degree                  -0.000051        -0.000302         0.001470   \n",
       "yearsExperience         -0.000233         0.001448        -0.001586   \n",
       "milesFromMetropolis     -0.000935         0.001367        -0.000602   \n",
       "industry_WEB             1.000000        -0.000355         0.000720   \n",
       "...                           ...              ...              ...   \n",
       "industry_FINANCE        -0.166910        -0.000510         0.001325   \n",
       "industry_HEALTH         -0.166835        -0.000631         0.001686   \n",
       "industry_OIL            -0.166845         0.001573        -0.002214   \n",
       "industry_SERVICE        -0.166756        -0.000014         0.000400   \n",
       "salary                   0.058953        -0.000322        -0.000045   \n",
       "\n",
       "                     companyId_COMP10  companyId_COMP11  companyId_COMP12  \\\n",
       "jobType                     -0.000836          0.000643          0.000260   \n",
       "degree                       0.000054          0.000538         -0.001340   \n",
       "yearsExperience             -0.002013          0.000515          0.000859   \n",
       "milesFromMetropolis         -0.000280          0.000701          0.001146   \n",
       "industry_WEB                -0.000417          0.000549         -0.001563   \n",
       "...                               ...               ...               ...   \n",
       "industry_FINANCE             0.001556         -0.000219         -0.000020   \n",
       "industry_HEALTH             -0.001282          0.001194         -0.000301   \n",
       "industry_OIL                 0.000815         -0.001579          0.001253   \n",
       "industry_SERVICE             0.000863         -0.001143          0.000154   \n",
       "salary                      -0.000140          0.000166          0.000079   \n",
       "\n",
       "                     ...  major_MATH  major_NONE  major_PHYSICS  \\\n",
       "jobType              ...    0.054054   -0.204741       0.054729   \n",
       "degree               ...    0.206369   -0.779355       0.207568   \n",
       "yearsExperience      ...   -0.000005    0.000110      -0.000269   \n",
       "milesFromMetropolis  ...   -0.000912   -0.001626       0.000221   \n",
       "industry_WEB         ...   -0.000297    0.000177       0.000613   \n",
       "...                  ...         ...         ...            ...   \n",
       "industry_FINANCE     ...    0.000665   -0.000696      -0.001168   \n",
       "industry_HEALTH      ...    0.000805   -0.000925       0.000910   \n",
       "industry_OIL         ...    0.000843    0.000719      -0.000234   \n",
       "industry_SERVICE     ...   -0.001931    0.001177       0.000066   \n",
       "salary               ...    0.110413   -0.371435       0.092056   \n",
       "\n",
       "                     industry_AUTO  industry_EDUCATION  industry_FINANCE  \\\n",
       "jobType                  -0.001942           -0.000450          0.000606   \n",
       "degree                    0.000911           -0.000483          0.000295   \n",
       "yearsExperience          -0.001002            0.000436          0.000977   \n",
       "milesFromMetropolis       0.000345            0.000807          0.000050   \n",
       "industry_WEB             -0.166961           -0.166878         -0.166910   \n",
       "...                            ...                 ...               ...   \n",
       "industry_FINANCE         -0.166731           -0.166648          1.000000   \n",
       "industry_HEALTH          -0.166655           -0.166572         -0.166604   \n",
       "industry_OIL             -0.166665           -0.166582         -0.166614   \n",
       "industry_SERVICE         -0.166576           -0.166493         -0.166525   \n",
       "salary                   -0.069904           -0.175158          0.154853   \n",
       "\n",
       "                     industry_HEALTH  industry_OIL  industry_SERVICE    salary  \n",
       "jobType                     0.000356      0.001483         -0.000674  0.536670  \n",
       "degree                      0.001023      0.000599         -0.002294  0.384044  \n",
       "yearsExperience            -0.001106      0.000801          0.000128  0.375013  \n",
       "milesFromMetropolis        -0.000400     -0.000550          0.000685 -0.297686  \n",
       "industry_WEB               -0.166835     -0.166845         -0.166756  0.058953  \n",
       "...                              ...           ...               ...       ...  \n",
       "industry_FINANCE           -0.166604     -0.166614         -0.166525  0.154853  \n",
       "industry_HEALTH             1.000000     -0.166539         -0.166450 -0.003445  \n",
       "industry_OIL               -0.166539      1.000000         -0.166460  0.156966  \n",
       "industry_SERVICE           -0.166450     -0.166460          1.000000 -0.122370  \n",
       "salary                     -0.003445      0.156966         -0.122370  1.000000  \n",
       "\n",
       "[84 rows x 84 columns]"
      ]
     },
     "execution_count": 44,
     "metadata": {},
     "output_type": "execute_result"
    },
    {
     "data": {
      "image/png": "[encoded data removed]",
      "text/plain": [
       "<Figure size 1440x1440 with 2 Axes>"
      ]
     },
     "metadata": {
      "needs_background": "light"
     },
     "output_type": "display_data"
    }
   ],
   "source": [
    "train_data_Engineered_num = train_data_Engineered.select_dtypes(include=np.number)\n",
    "\n",
    "# Create a correlation matrix. What features correlate the most with salary? What other correlations did you find?\n",
    "corr_Engineered_num = train_data_Engineered_num.corr()\n",
    "plt.rcParams['figure.figsize'] = (20, 20)\n",
    "#matrix = np.triu(corr_Engineered_num)\n",
    "sns.heatmap(corr_Engineered_num, \n",
    "            xticklabels=corr_Engineered_num.columns.values, \n",
    "            yticklabels=corr_Engineered_num.columns.values,\n",
    "            vmin=-1, vmax=1, center= 0, square=True, cmap= 'coolwarm', \n",
    "            #annot = True, mask=matrix, cbar_kws= {'orientation': 'horizontal'}\n",
    "           )\n",
    "plt.title('Heatmap of Correlation Matrix')\n",
    "corr_Engineered_num"
   ]
  },
  {
   "cell_type": "code",
   "execution_count": 45,
   "metadata": {},
   "outputs": [
    {
     "name": "stdout",
     "output_type": "stream",
     "text": [
      "              total        used        free      shared  buff/cache   available\r\n",
      "Mem:           9761        4777        3956         277        1026        4426\r\n",
      "Swap:             0           0           0\r\n"
     ]
    }
   ],
   "source": [
    "! free -m"
   ]
  },
  {
   "cell_type": "markdown",
   "metadata": {},
   "source": [
    "### ---- 5 Establish a baseline ----"
   ]
  },
  {
   "cell_type": "code",
   "execution_count": 5,
   "metadata": {},
   "outputs": [],
   "source": [
    "#select a reasonable metric (MSE in this case)\n",
    "#create an extremely simple model and measure its efficacy\n",
    "#e.g. use \"average salary\" for each industry as your model and then measure MSE\n",
    "#during 5-fold cross-validation"
   ]
  },
  {
   "cell_type": "markdown",
   "metadata": {},
   "source": [
    "### ---- 6 Hypothesize solution ----"
   ]
  },
  {
   "cell_type": "code",
   "execution_count": null,
   "metadata": {},
   "outputs": [],
   "source": [
    "#brainstorm 3 models that you think may improve results over the baseline model based\n",
    "#on your "
   ]
  },
  {
   "cell_type": "markdown",
   "metadata": {},
   "source": [
    "Brainstorm 3 models that you think may improve results over the baseline model based on your EDA and explain why they're reasonable solutions here.\n",
    "\n",
    "Also write down any new features that you think you should try adding to the model based on your EDA, e.g. interaction variables, summary statistics for each group, etc"
   ]
  },
  {
   "cell_type": "markdown",
   "metadata": {},
   "source": [
    "## Part 3 - DEVELOP"
   ]
  },
  {
   "cell_type": "markdown",
   "metadata": {},
   "source": [
    "You will cycle through creating features, tuning models, and training/validing models (steps 7-9) until you've reached your efficacy goal\n",
    "\n",
    "#### Your metric will be MSE and your goal is:\n",
    " - <360 for entry-level data science roles\n",
    " - <320 for senior data science roles"
   ]
  },
  {
   "cell_type": "markdown",
   "metadata": {},
   "source": [
    "### ---- 7 Engineer features  ----"
   ]
  },
  {
   "cell_type": "code",
   "execution_count": null,
   "metadata": {},
   "outputs": [],
   "source": [
    "#make sure that data is ready for modeling\n",
    "#create any new features needed to potentially enhance model"
   ]
  },
  {
   "cell_type": "markdown",
   "metadata": {},
   "source": [
    "### ---- 8 Create models ----"
   ]
  },
  {
   "cell_type": "code",
   "execution_count": 15,
   "metadata": {},
   "outputs": [],
   "source": [
    "#create and tune the models that you brainstormed during part 2"
   ]
  },
  {
   "cell_type": "markdown",
   "metadata": {},
   "source": [
    "### ---- 9 Test models ----"
   ]
  },
  {
   "cell_type": "code",
   "execution_count": 1,
   "metadata": {},
   "outputs": [],
   "source": [
    "#do 5-fold cross validation on models and measure MSE"
   ]
  },
  {
   "cell_type": "markdown",
   "metadata": {},
   "source": [
    "### ---- 10 Select best model  ----"
   ]
  },
  {
   "cell_type": "code",
   "execution_count": null,
   "metadata": {},
   "outputs": [],
   "source": [
    "#select the model with the lowest error as your \"prodcuction\" model"
   ]
  },
  {
   "cell_type": "markdown",
   "metadata": {},
   "source": [
    "## Part 4 - DEPLOY"
   ]
  },
  {
   "cell_type": "markdown",
   "metadata": {},
   "source": [
    "### ---- 11 Automate pipeline ----"
   ]
  },
  {
   "cell_type": "code",
   "execution_count": null,
   "metadata": {},
   "outputs": [],
   "source": [
    "#write script that trains model on entire training set, saves model to disk,\n",
    "#and scores the \"test\" dataset"
   ]
  },
  {
   "cell_type": "markdown",
   "metadata": {},
   "source": [
    "### ---- 12 Deploy solution ----"
   ]
  },
  {
   "cell_type": "code",
   "execution_count": 16,
   "metadata": {},
   "outputs": [],
   "source": [
    "#save your prediction to a csv file or optionally save them as a table in a SQL database\n",
    "#additionally, you want to save a visualization and summary of your prediction and feature importances\n",
    "#these visualizations and summaries will be extremely useful to business stakeholders"
   ]
  },
  {
   "cell_type": "markdown",
   "metadata": {},
   "source": [
    "### ---- 13 Measure efficacy ----"
   ]
  },
  {
   "cell_type": "markdown",
   "metadata": {},
   "source": [
    "We'll skip this step since we don't have the outcomes for the test data"
   ]
  },
  {
   "cell_type": "code",
   "execution_count": null,
   "metadata": {},
   "outputs": [],
   "source": []
  },
  {
   "cell_type": "code",
   "execution_count": null,
   "metadata": {},
   "outputs": [],
   "source": []
  },
  {
   "cell_type": "code",
   "execution_count": null,
   "metadata": {},
   "outputs": [],
   "source": []
  },
  {
   "cell_type": "code",
   "execution_count": null,
   "metadata": {},
   "outputs": [],
   "source": []
  }
 ],
 "metadata": {
  "kernelspec": {
   "display_name": "Python 3",
   "language": "python",
   "name": "python3"
  },
  "language_info": {
   "codemirror_mode": {
    "name": "ipython",
    "version": 3
   },
   "file_extension": ".py",
   "mimetype": "text/x-python",
   "name": "python",
   "nbconvert_exporter": "python",
   "pygments_lexer": "ipython3",
   "version": "3.7.6"
  }
 },
 "nbformat": 4,
 "nbformat_minor": 2
}
